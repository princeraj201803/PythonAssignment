{
 "cells": [
  {
   "cell_type": "code",
   "execution_count": 15,
   "id": "b15daad2-d3a2-4688-b9f0-02625d280e3a",
   "metadata": {},
   "outputs": [],
   "source": [
    "#Question 1\n",
    "# def is used to create a function\n",
    "def fun():\n",
    "    l1 = []\n",
    "    for i in range(1,25):\n",
    "        if(i%2 != 0):\n",
    "            l1.append(i)\n",
    "    return l1\n",
    "      "
   ]
  },
  {
   "cell_type": "code",
   "execution_count": 17,
   "id": "06258b26-1516-4239-9341-adde5ba02d19",
   "metadata": {},
   "outputs": [],
   "source": [
    "#Question 3\n",
    "# Iterator is an object that contain countale number of values.\n",
    "# iter() is used for initialise the iterator object and the method.\n"
   ]
  },
  {
   "cell_type": "code",
   "execution_count": 1,
   "id": "36ede44c-e38a-4539-9e4f-cfd5dd0acc45",
   "metadata": {},
   "outputs": [],
   "source": [
    "#Question 4\n",
    "# Generator function allow to declare a function that bhaves likw an iterator providing a faster and easier way to create iterator.\n",
    "# Yeild is used to create generator Function\n",
    "# Example of Generator Function is List,Tuple"
   ]
  },
  {
   "cell_type": "code",
   "execution_count": 8,
   "id": "f467d95a-7280-4c45-87ce-a5b73d9eddb8",
   "metadata": {},
   "outputs": [],
   "source": [
    "#Question 6\n",
    "def fib(n):\n",
    "    x = 0\n",
    "    y = 1\n",
    "    next_number = 0\n",
    "    count = 1\n",
    "    while(count<=n):\n",
    "        print(next_number)\n",
    "        count +=1\n",
    "        x = y\n",
    "        next_number = x+y\n",
    "        number = x+y\n",
    "    \n",
    "    "
   ]
  },
  {
   "cell_type": "code",
   "execution_count": 14,
   "id": "6d060079-e16a-4ffa-9c50-ada33490ceb8",
   "metadata": {},
   "outputs": [],
   "source": [
    "#Question 7\n",
    "s = 'pwskills'\n",
    "l1 = []\n",
    "for i in s:\n",
    "    l1.append(i)\n",
    "    \n"
   ]
  },
  {
   "cell_type": "code",
   "execution_count": 22,
   "id": "db004e74-7a18-48f2-acd9-2097a1f0481c",
   "metadata": {},
   "outputs": [],
   "source": [
    "#Question 9\n",
    "l2 = []\n",
    "l3 = []\n",
    "for i in range(1,100):\n",
    "    l2.append(i)\n",
    "    if(i%2 != 0):\n",
    "        l3.append(i)\n",
    "        \n",
    "\n",
    "    \n"
   ]
  },
  {
   "cell_type": "code",
   "execution_count": null,
   "id": "c9f0b5cc-4b47-4765-98ac-5efcac3a9b81",
   "metadata": {},
   "outputs": [],
   "source": []
  }
 ],
 "metadata": {
  "kernelspec": {
   "display_name": "Python 3 (ipykernel)",
   "language": "python",
   "name": "python3"
  },
  "language_info": {
   "codemirror_mode": {
    "name": "ipython",
    "version": 3
   },
   "file_extension": ".py",
   "mimetype": "text/x-python",
   "name": "python",
   "nbconvert_exporter": "python",
   "pygments_lexer": "ipython3",
   "version": "3.10.8"
  }
 },
 "nbformat": 4,
 "nbformat_minor": 5
}
