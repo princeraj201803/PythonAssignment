{
 "cells": [
  {
   "cell_type": "code",
   "execution_count": 1,
   "id": "ee8551c5-1ed8-4730-8fea-570ccab8cc8a",
   "metadata": {},
   "outputs": [],
   "source": [
    "#Question 1\n",
    "# We can comment in by using \"#\" symbol.\n",
    "# Different type of Comments in python is Single Line Comment , Double Line Comment and Multi line comment"
   ]
  },
  {
   "cell_type": "code",
   "execution_count": 3,
   "id": "47a101e1-c490-415f-b5c9-af24ad646db9",
   "metadata": {},
   "outputs": [],
   "source": [
    "#Question 2.\n",
    " #Varible in  python is a Symbolic name in which we can assign some value to it. \n",
    " #We can Derlare variable like . int = 12, str= \"dsa\" etc."
   ]
  },
  {
   "cell_type": "code",
   "execution_count": 4,
   "id": "88a3aeb4-3252-41b1-97ef-e8782907f1c0",
   "metadata": {},
   "outputs": [],
   "source": [
    "# Question 3.\n",
    "# We can Convert Data type to another by Typecasting mehod.\n",
    "# Ex. = int(input(enter value), int(str(\"prince\") == in this Example we can convert the String Data into the integers by the help of typecasting."
   ]
  },
  {
   "cell_type": "code",
   "execution_count": 7,
   "id": "d15bcc12-b1d0-4ed5-a18a-0b1de909b909",
   "metadata": {},
   "outputs": [
    {
     "data": {
      "text/plain": [
       "[3]"
      ]
     },
     "execution_count": 7,
     "metadata": {},
     "output_type": "execute_result"
    }
   ],
   "source": [
    "#Qustion 5.\n",
    "my_list = [1,2,3,4,5]\n",
    "my_list[2:3]"
   ]
  },
  {
   "cell_type": "code",
   "execution_count": 8,
   "id": "3d8727d7-1bf6-464a-abae-311c2c2ecec6",
   "metadata": {},
   "outputs": [],
   "source": [
    "# Question 6.\n",
    "# THe number which is in the form of real and imaginary called Complex number.\n",
    "# It is represented as A = 3+4j"
   ]
  },
  {
   "cell_type": "code",
   "execution_count": 10,
   "id": "0fd94ca8-19e9-4be3-b566-91f297d19d86",
   "metadata": {},
   "outputs": [],
   "source": [
    "#Question 7.\n",
    "age = 25"
   ]
  },
  {
   "cell_type": "code",
   "execution_count": 13,
   "id": "6cf33003-c672-46d1-8bf7-aaa86f22dbfa",
   "metadata": {},
   "outputs": [],
   "source": [
    "#Question 8.\n",
    "price = 9.99\n",
    "#Data type is float"
   ]
  },
  {
   "cell_type": "code",
   "execution_count": 16,
   "id": "01a83a49-2144-4aeb-9937-e80af65f6085",
   "metadata": {},
   "outputs": [],
   "source": [
    "#Question 9\n",
    "name = \"princeraj\""
   ]
  },
  {
   "cell_type": "code",
   "execution_count": 17,
   "id": "163dd922-bcfe-441c-81a6-128e61dc0d97",
   "metadata": {},
   "outputs": [
    {
     "data": {
      "text/plain": [
       "'princeraj'"
      ]
     },
     "execution_count": 17,
     "metadata": {},
     "output_type": "execute_result"
    }
   ],
   "source": [
    "name"
   ]
  },
  {
   "cell_type": "code",
   "execution_count": null,
   "id": "c830cf1c-4f8c-4588-a1ac-5a5c108d62a7",
   "metadata": {},
   "outputs": [],
   "source": [
    "#Question 10.\n",
    "is_student = Tr"
   ]
  }
 ],
 "metadata": {
  "kernelspec": {
   "display_name": "Python 3 (ipykernel)",
   "language": "python",
   "name": "python3"
  },
  "language_info": {
   "codemirror_mode": {
    "name": "ipython",
    "version": 3
   },
   "file_extension": ".py",
   "mimetype": "text/x-python",
   "name": "python",
   "nbconvert_exporter": "python",
   "pygments_lexer": "ipython3",
   "version": "3.10.8"
  }
 },
 "nbformat": 4,
 "nbformat_minor": 5
}
