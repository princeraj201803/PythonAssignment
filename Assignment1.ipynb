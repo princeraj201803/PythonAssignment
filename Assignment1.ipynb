{
 "cells": [
  {
   "cell_type": "code",
   "execution_count": 4,
   "id": "2d11b028-9e8e-4e68-9013-0be4b712736a",
   "metadata": {},
   "outputs": [],
   "source": [
    "# Question 1"
   ]
  },
  {
   "cell_type": "code",
   "execution_count": 14,
   "id": "e392a3a4-454d-4a93-9ac3-b6e26fa66c9b",
   "metadata": {},
   "outputs": [],
   "source": [
    "#1. Variable containing string\n",
    "s = \"prince\"\n",
    "#2. Variable containong list\n",
    "l = [2,3,4,\"raj\",23.21,23]\n",
    "#3. valiable containg float\n",
    "p = 23.4\n",
    "#4. variable containing tupels\n",
    "t = (\"prince\",\"raj\",\"apple\")"
   ]
  },
  {
   "cell_type": "code",
   "execution_count": 15,
   "id": "c73e3d56-222b-4c69-9c6a-cc4e29f15d3c",
   "metadata": {},
   "outputs": [
    {
     "data": {
      "text/plain": [
       "tuple"
      ]
     },
     "execution_count": 15,
     "metadata": {},
     "output_type": "execute_result"
    }
   ],
   "source": [
    "# Question 2\n",
    "#1 String\n",
    "#2. String\n",
    "#3 . list\n",
    "#4. int\n"
   ]
  },
  {
   "cell_type": "code",
   "execution_count": 18,
   "id": "4558c072-2720-444d-b602-7dce628a1d87",
   "metadata": {},
   "outputs": [
    {
     "data": {
      "text/plain": [
       "1.25"
      ]
     },
     "execution_count": 18,
     "metadata": {},
     "output_type": "execute_result"
    }
   ],
   "source": [
    "#Question 3 \n",
    "#1. The use of / is that it is used to divede the numbers and it gives the questien.\n",
    "5/4\n",
    "#2.The use of %(modolo) is to find the remander. ex.\n",
    "4%2\n",
    "#3. The use of // is to find the floor division. x.\n",
    "15//2\n",
    "#4. ** used to find  the powers of a numbers\n",
    "2**3"
   ]
  },
  {
   "cell_type": "code",
   "execution_count": 23,
   "id": "feedcb67-51ac-4fca-8a3c-906b02d3cf31",
   "metadata": {},
   "outputs": [
    {
     "name": "stdout",
     "output_type": "stream",
     "text": [
      "<class 'int'>\n",
      "<class 'int'>\n",
      "<class 'int'>\n",
      "<class 'int'>\n",
      "<class 'str'>\n",
      "<class 'str'>\n",
      "<class 'float'>\n",
      "<class 'float'>\n"
     ]
    }
   ],
   "source": [
    "#Question 4\n",
    "l = [2,3,4,8,\"prince\",\"raj\",4.5,23.44,2,\"kumar\"]\n",
    "for i in l:\n",
    "    print(type(i))"
   ]
  },
  {
   "cell_type": "code",
   "execution_count": 38,
   "id": "b2d60411-9a0f-4950-b3dc-78c59239d519",
   "metadata": {},
   "outputs": [
    {
     "name": "stdout",
     "output_type": "stream",
     "text": [
      "3 Divisible by 3\n",
      "4 not divisible by 3\n",
      "6 Divisible by 3\n",
      "9 Divisible by 3\n",
      "12 Divisible by 3\n",
      "15 Divisible by 3\n",
      "23 not divisible by 3\n",
      "3 Divisible by 3\n",
      "30 Divisible by 3\n",
      "23 not divisible by 3\n",
      "32 not divisible by 3\n",
      "43 not divisible by 3\n",
      "56 not divisible by 3\n",
      "78 Divisible by 3\n",
      "12 Divisible by 3\n",
      "33 Divisible by 3\n",
      "44 not divisible by 3\n",
      "22 not divisible by 3\n",
      "130 not divisible by 3\n",
      "120 Divisible by 3\n",
      "20 not divisible by 3\n",
      "21 Divisible by 3\n",
      "66 Divisible by 3\n",
      "7 not divisible by 3\n"
     ]
    }
   ],
   "source": [
    "#Question 6\n",
    "l = [3,4,6,9,12,15,23,3,30,23,32,43,56,78,12,33,44,22,130,120,20,21,66,7]\n",
    "for i in l:\n",
    "    if(i%3 == 0):\n",
    "        print(i,\"Divisible by 3\")\n",
    "    elif(i%3 != 0):\n",
    "\n",
    "            print(i,\"not divisible by 3\")\n",
    "\n",
    "        \n",
    "    \n",
    "\n"
   ]
  },
  {
   "cell_type": "code",
   "execution_count": null,
   "id": "1fd4fda0-1bcc-4619-854e-f3bc159be813",
   "metadata": {},
   "outputs": [],
   "source": [
    "#Question 7.\n",
    "#mutable = If We can change the data using index the"
   ]
  }
 ],
 "metadata": {
  "kernelspec": {
   "display_name": "Python 3 (ipykernel)",
   "language": "python",
   "name": "python3"
  },
  "language_info": {
   "codemirror_mode": {
    "name": "ipython",
    "version": 3
   },
   "file_extension": ".py",
   "mimetype": "text/x-python",
   "name": "python",
   "nbconvert_exporter": "python",
   "pygments_lexer": "ipython3",
   "version": "3.10.8"
  }
 },
 "nbformat": 4,
 "nbformat_minor": 5
}
